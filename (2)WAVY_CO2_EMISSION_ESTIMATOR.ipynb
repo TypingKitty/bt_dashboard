{
  "nbformat": 4,
  "nbformat_minor": 0,
  "metadata": {
    "colab": {
      "provenance": []
    },
    "kernelspec": {
      "name": "python3",
      "display_name": "Python 3"
    },
    "language_info": {
      "name": "python"
    }
  },
  "cells": [
    {
      "cell_type": "code",
      "source": [
        "import pandas as pd\n",
        "\n",
        "# Reload the dataset (ensure you have the correct file path)\n",
        "df = pd.read_csv(\"/content/drive/MyDrive/WAVY/itms_22Mar_2hours.csv\")\n",
        "\n",
        "# Ensure necessary columns exist before creating derived ones\n",
        "if \"speed\" in df.columns and \"trip_delay\" in df.columns:\n",
        "    # Convert trip_delay to hours\n",
        "    df[\"trip_delay_hours\"] = df[\"trip_delay\"] / 60\n",
        "\n",
        "    # Calculate Total Distance Traveled\n",
        "    df[\"total_distance_traveled\"] = df[\"speed\"] * df[\"trip_delay_hours\"]\n",
        "\n",
        "    # Estimate Fuel Consumption using BMTC Diesel efficiency (3.5 km per liter)\n",
        "    df[\"fuel_consumption\"] = df[\"total_distance_traveled\"] / 3.5\n",
        "\n",
        "    # Calculate CO2 Emissions (Diesel Emission Factor = 2.31 kg CO₂ per liter)\n",
        "    df[\"CO2_emissions\"] = df[\"fuel_consumption\"] * 2.31\n",
        "\n",
        "    print(\"✅ Successfully recreated CO2_emissions and related columns!\")\n",
        "else:\n",
        "    print(\"🚨 Required columns like `speed` or `trip_delay` are missing! Check dataset structure.\")\n",
        "\n",
        "# Ensure necessary columns exist\n",
        "if \"total_distance_traveled\" in df.columns and \"fuel_consumption\" in df.columns:\n",
        "    df[\"CO2_emissions\"] = df[\"fuel_consumption\"] * 2.31  # Using Diesel emission factor (2.31 kg CO₂ per liter)\n",
        "else:\n",
        "    print(\"🚨 Required columns missing! Check dataset structure.\")\n",
        "\n",
        "# Recalculate necessary columns if needed\n",
        "df[\"total_distance_traveled\"] = df[\"speed\"] * df[\"trip_delay_hours\"]\n",
        "df[\"fuel_consumption\"] = df[\"total_distance_traveled\"] / 3.5  # Using BMTC Diesel efficiency\n",
        "df[\"efficiency_factor\"] = df[\"speed\"] / (df[\"trip_delay_hours\"] + 1e-6)  # Avoid division by zero\n",
        "\n",
        "# Replace inf and NaN values\n",
        "import numpy as np\n",
        "df.replace([np.inf, -np.inf], np.nan, inplace=True)\n",
        "# Select only numeric columns\n",
        "numeric_cols = df.select_dtypes(include=[np.number])\n",
        "\n",
        "# Fill NaNs in numeric columns only\n",
        "df[numeric_cols.columns] = df[numeric_cols.columns].fillna(numeric_cols.median())\n",
        "\n",
        "# Define features\n",
        "X = df[[\"speed\", \"trip_delay_hours\", \"total_distance_traveled\", \"fuel_consumption\", \"efficiency_factor\"]]\n",
        "y = df[\"CO2_emissions\"]\n"
      ],
      "metadata": {
        "colab": {
          "base_uri": "https://localhost:8080/"
        },
        "id": "SDYwqLabhl9J",
        "outputId": "86d7f310-36a2-45b7-e078-8fcc166af6d6"
      },
      "execution_count": null,
      "outputs": [
        {
          "output_type": "stream",
          "name": "stdout",
          "text": [
            "✅ Successfully recreated CO2_emissions and related columns!\n"
          ]
        }
      ]
    },
    {
      "cell_type": "code",
      "source": [
        "from sklearn.model_selection import train_test_split\n",
        "import xgboost as xgb\n",
        "from sklearn.metrics import mean_absolute_error, mean_squared_error, r2_score\n",
        "\n",
        "# Define feature set\n",
        "X = df[[\"speed\", \"trip_delay_hours\", \"total_distance_traveled\", \"fuel_consumption\"]]\n",
        "y = df[\"CO2_emissions\"]\n",
        "\n",
        "# Train-Test Split\n",
        "X_train, X_test, y_train, y_test = train_test_split(X, y, test_size=0.2, random_state=42)\n",
        "\n",
        "# Train XGBoost Model\n",
        "xgb_model = xgb.XGBRegressor(objective=\"reg:squarederror\", n_estimators=100)\n",
        "xgb_model.fit(X_train, y_train)\n",
        "\n",
        "# Predict and Evaluate\n",
        "y_pred_xgb = xgb_model.predict(X_test)\n",
        "\n",
        "print(\"XGBoost - MAE:\", mean_absolute_error(y_test, y_pred_xgb))\n",
        "print(\"XGBoost - RMSE:\", np.sqrt(mean_squared_error(y_test, y_pred_xgb)))\n",
        "print(\"XGBoost R² Score:\", r2_score(y_test, y_pred_xgb))"
      ],
      "metadata": {
        "colab": {
          "base_uri": "https://localhost:8080/"
        },
        "id": "XB55adl4izJq",
        "outputId": "9adf89d6-9467-4a1c-d2f0-a4ab9690ff52"
      },
      "execution_count": null,
      "outputs": [
        {
          "output_type": "stream",
          "name": "stdout",
          "text": [
            "XGBoost - MAE: 1.9034896813948041\n",
            "XGBoost - RMSE: 19.006556742906774\n",
            "XGBoost R² Score: 0.9961547017495356\n"
          ]
        }
      ]
    },
    {
      "cell_type": "code",
      "execution_count": null,
      "metadata": {
        "colab": {
          "base_uri": "https://localhost:8080/"
        },
        "id": "iJ-zcljQghQ_",
        "outputId": "2bf7e642-f4d4-4408-fbfc-b03cca602aba"
      },
      "outputs": [
        {
          "output_type": "stream",
          "name": "stdout",
          "text": [
            "XGBoost model saved as co2_emission_xgb_2final.pkl\n"
          ]
        }
      ],
      "source": [
        "import pickle\n",
        "\n",
        "# Save the trained XGBoost model\n",
        "with open(\"co2_emission_xgb_2final.pkl\", \"wb\") as f:\n",
        "    pickle.dump(xgb_model, f)\n",
        "\n",
        "print(\"XGBoost model saved as co2_emission_xgb_2final.pkl\")\n"
      ]
    },
    {
      "cell_type": "code",
      "source": [
        "import pickle\n",
        "\n",
        "# Load the trained model\n",
        "with open(\"/content/drive/MyDrive/WAVY/co2_emission_xgb_2final.pkl\", \"rb\") as f:\n",
        "    xgb_model = pickle.load(f)\n"
      ],
      "metadata": {
        "id": "BTEskPp1jFi7"
      },
      "execution_count": null,
      "outputs": []
    },
    {
      "cell_type": "code",
      "source": [
        "from sklearn.model_selection import train_test_split\n",
        "\n",
        "# Define feature set\n",
        "X = df[[\"speed\", \"trip_delay_hours\", \"total_distance_traveled\", \"fuel_consumption\"]]\n",
        "\n",
        "# Train-Test Split\n",
        "X_train, X_test, y_train, y_test = train_test_split(X, df[\"CO2_emissions\"], test_size=0.2, random_state=42)\n"
      ],
      "metadata": {
        "id": "gXyKoINFjase"
      },
      "execution_count": null,
      "outputs": []
    },
    {
      "cell_type": "markdown",
      "source": [
        "# **SHAP Summary Plot**\n",
        "- Most important features affecting CO₂ emissions.\n",
        "- Features at the top have the most impact.\n",
        "- Red = high feature values; blue = low feature values."
      ],
      "metadata": {
        "id": "tVtbpXmZkHwN"
      }
    },
    {
      "cell_type": "code",
      "source": [
        "import shap\n",
        "\n",
        "# Explain the model\n",
        "explainer = shap.Explainer(xgb_model, X_test)\n",
        "shap_values = explainer(X_test)\n",
        "\n",
        "# Plot summary of feature importance\n",
        "shap.summary_plot(shap_values, X_test)\n"
      ],
      "metadata": {
        "colab": {
          "base_uri": "https://localhost:8080/",
          "height": 333
        },
        "id": "KyEGYuBtjdzW",
        "outputId": "ed95b2a1-120b-4da5-fd33-e13acab73ed7"
      },
      "execution_count": null,
      "outputs": [
        {
          "output_type": "stream",
          "name": "stderr",
          "text": [
            " 98%|===================| 24570/24976 [00:40<00:00]       "
          ]
        },
        {
          "output_type": "display_data",
          "data": {
            "text/plain": [
              "<Figure size 800x310 with 2 Axes>"
            ],
            "image/png": "[encoded data removed]"
          },
          "metadata": {}
        }
      ]
    },
    {
      "cell_type": "markdown",
      "source": [
        "# **Required User Inputs**\n",
        "1.   Speed of the bus (in km/h) → \"speed\"\n",
        "2.   Trip delay (in minutes) → \"trip_delay\""
      ],
      "metadata": {
        "id": "Q7bdbqY9lZcn"
      }
    },
    {
      "cell_type": "markdown",
      "source": [
        "# **How the Model Derives Additional Features**\n",
        "Once the user provides speed and trip delay, the model automatically calculates:\n",
        "\n",
        "1.   Trip delay in hours → trip_delay_hours = trip_delay / 60\n",
        "2.   Total distance traveled → total_distance_traveled = speed * trip_delay_hours\n",
        "3. Fuel consumption → fuel_consumption = total_distance_traveled / 3.5\n",
        "4. CO₂ emissions → fuel_consumption * 2.31\n"
      ],
      "metadata": {
        "id": "gqyevEOSlm3V"
      }
    },
    {
      "cell_type": "code",
      "source": [
        "import pickle\n",
        "\n",
        "# Load the trained model\n",
        "with open(\"/content/drive/MyDrive/WAVY/co2_emission_xgb_2final.pkl\", \"rb\") as f:\n",
        "    xgb_model = pickle.load(f)\n"
      ],
      "metadata": {
        "id": "h5mS8LPGn19H"
      },
      "execution_count": null,
      "outputs": []
    },
    {
      "cell_type": "code",
      "source": [
        "\n",
        "# Get user input\n",
        "speed = float(input(\"Enter bus speed (km/h): \"))\n",
        "trip_delay = float(input(\"Enter trip delay (minutes): \"))\n",
        "\n",
        "# Convert trip delay to hours\n",
        "trip_delay_hours = trip_delay / 60\n",
        "\n",
        "# Calculate Total Distance Traveled\n",
        "total_distance_traveled = speed * trip_delay_hours\n",
        "\n",
        "# Estimate Fuel Consumption (Diesel efficiency = 3.5 km per liter)\n",
        "fuel_consumption = total_distance_traveled / 3.5\n",
        "\n",
        "# Create a DataFrame for prediction\n",
        "import pandas as pd\n",
        "user_input = pd.DataFrame([[speed, trip_delay_hours, total_distance_traveled, fuel_consumption]],\n",
        "                          columns=[\"speed\", \"trip_delay_hours\", \"total_distance_traveled\", \"fuel_consumption\"])\n"
      ],
      "metadata": {
        "colab": {
          "base_uri": "https://localhost:8080/"
        },
        "id": "xUus_BIpoCip",
        "outputId": "8efc93a5-c521-480f-b2c2-b521017a0ded"
      },
      "execution_count": null,
      "outputs": [
        {
          "name": "stdout",
          "output_type": "stream",
          "text": [
            "Enter bus speed (km/h): 30\n",
            "Enter trip delay (minutes): 100\n"
          ]
        }
      ]
    },
    {
      "cell_type": "code",
      "source": [
        "# Predict CO₂ emissions for the user input\n",
        "predicted_emission = xgb_model.predict(user_input)\n",
        "\n",
        "# Display the result\n",
        "print(f\"Predicted CO₂ Emissions: {predicted_emission[0]:.2f} kg per trip\")\n"
      ],
      "metadata": {
        "colab": {
          "base_uri": "https://localhost:8080/"
        },
        "id": "N5RsoOW-oOxg",
        "outputId": "c7dbbe4b-fbab-48a9-b0fc-70d95c712f73"
      },
      "execution_count": null,
      "outputs": [
        {
          "output_type": "stream",
          "name": "stdout",
          "text": [
            "Predicted CO₂ Emissions: 32.55 kg per trip\n"
          ]
        }
      ]
    }
  ]
}