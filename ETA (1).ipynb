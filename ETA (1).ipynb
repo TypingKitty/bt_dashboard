{
  "cells": [
    {
      "cell_type": "code",
      "execution_count": 12,
      "metadata": {
        "vscode": {
          "languageId": "plaintext"
        },
        "colab": {
          "base_uri": "https://localhost:8080/"
        },
        "id": "lCuOKsvzkSAV",
        "outputId": "e9816099-0acd-45a8-bca1-50a127b00120"
      },
      "outputs": [
        {
          "output_type": "stream",
          "name": "stderr",
          "text": [
            "<ipython-input-12-1bbc823c6af5>:28: FutureWarning: A value is trying to be set on a copy of a DataFrame or Series through chained assignment using an inplace method.\n",
            "The behavior will change in pandas 3.0. This inplace method will never work because the intermediate object on which we are setting values always behaves as a copy.\n",
            "\n",
            "For example, when doing 'df[col].method(value, inplace=True)', try using 'df.method({col: value}, inplace=True)' or df[col] = df[col].method(value) instead, to perform the operation inplace on the original object.\n",
            "\n",
            "\n",
            "  itms_df['prev_trip_delay'].fillna(0, inplace=True)\n"
          ]
        }
      ],
      "source": [
        "import pandas as pd\n",
        "import numpy as np\n",
        "from sklearn.model_selection import train_test_split, GridSearchCV\n",
        "from xgboost import XGBRegressor\n",
        "from sklearn.metrics import mean_absolute_error, mean_squared_error, r2_score\n",
        "\n",
        "# Load datasets\n",
        "itms_df = pd.read_csv(\"itms-22mar-2hours.csv\")  # Replace with actual path\n",
        "routes_df = pd.read_csv(\"konbert-output-3e875593.csv\")  # Replace with actual path\n",
        "\n",
        "# Convert datetime columns\n",
        "itms_df['observationDateTime'] = pd.to_datetime(itms_df['observationDateTime'])\n",
        "itms_df['trip_delay'] = pd.to_numeric(itms_df['trip_delay'], errors='coerce')\n",
        "\n",
        "# Extract time-based features\n",
        "itms_df['hour'] = itms_df['observationDateTime'].dt.hour\n",
        "itms_df['minute'] = itms_df['observationDateTime'].dt.minute\n",
        "itms_df['dayofweek'] = itms_df['observationDateTime'].dt.dayofweek\n",
        "\n",
        "# Extract latitude and longitude\n",
        "itms_df['latitude'] = itms_df['location.coordinates'].apply(\n",
        "    lambda x: float(x.strip('[]').split(',')[1]) if isinstance(x, str) else np.nan)\n",
        "itms_df['longitude'] = itms_df['location.coordinates'].apply(\n",
        "    lambda x: float(x.strip('[]').split(',')[0]) if isinstance(x, str) else np.nan)\n",
        "\n",
        "# Add previous stop delay feature\n",
        "itms_df['prev_trip_delay'] = itms_df.groupby('trip_id')['trip_delay'].shift(1)\n",
        "itms_df['prev_trip_delay'].fillna(0, inplace=True)\n",
        "\n",
        "# Drop missing values\n",
        "processed_df = itms_df[['speed', 'hour', 'minute', 'dayofweek',\n",
        "                         'latitude', 'longitude', 'prev_trip_delay', 'trip_delay']].dropna()\n",
        "\n",
        "\n"
      ]
    },
    {
      "cell_type": "code",
      "execution_count": 15,
      "metadata": {
        "vscode": {
          "languageId": "plaintext"
        },
        "colab": {
          "base_uri": "https://localhost:8080/"
        },
        "id": "XwdZFGYqkSAZ",
        "outputId": "8a8783b4-4794-4445-f48e-7df7efbe0999"
      },
      "outputs": [
        {
          "output_type": "stream",
          "name": "stdout",
          "text": [
            "Mean Absolute Error (MAE): 49 seconds\n",
            "Root Mean Squared Error (RMSE): 399 seconds\n",
            "R² Score: 0.9533\n"
          ]
        }
      ],
      "source": [
        "# Define features (X) and target (y)\n",
        "X = processed_df.drop(columns=['trip_delay'])\n",
        "y = processed_df['trip_delay']\n",
        "\n",
        "# Split into training and test sets\n",
        "X_train, X_test, y_train, y_test = train_test_split(X, y, test_size=0.2, random_state=42)\n",
        "\n",
        "# Define XGBoost model\n",
        "xgb_model = XGBRegressor(n_estimators=200, learning_rate=0.05, max_depth=6,\n",
        "                         subsample=0.8, colsample_bytree=0.8, random_state=42)\n",
        "\n",
        "# Train model\n",
        "xgb_model.fit(X_train, y_train)\n",
        "\n",
        "# Make predictions\n",
        "y_pred = xgb_model.predict(X_test)\n",
        "\n",
        "# Evaluate model\n",
        "mae = mean_absolute_error(y_test, y_pred)\n",
        "rmse = np.sqrt(mean_squared_error(y_test, y_pred))\n",
        "r2 = r2_score(y_test, y_pred)  # R² Score\n",
        "\n",
        "# Print results\n",
        "print(f\"Mean Absolute Error (MAE): {mae:.0f} seconds\")\n",
        "print(f\"Root Mean Squared Error (RMSE): {rmse:.0f} seconds\")\n",
        "print(f\"R² Score: {r2:.4f}\")\n",
        "\n"
      ]
    },
    {
      "cell_type": "code",
      "source": [
        "import pickle\n",
        "\n",
        "# Save the trained XGBoost model\n",
        "with open(\"eta.pkl\", \"wb\") as f:\n",
        "    pickle.dump(xgb_model, f)"
      ],
      "metadata": {
        "id": "lBx487xIpKbc"
      },
      "execution_count": 19,
      "outputs": []
    },
    {
      "cell_type": "code",
      "source": [
        "import pickle\n",
        "\n",
        "# Load the trained model\n",
        "with open(\"eta.pkl\", \"rb\") as f:\n",
        "    model = pickle.load(f)\n",
        "    new_data = pd.DataFrame({'speed': [30], 'hour': [14], 'minute': [5], 'dayofweek': [3],\n",
        "                         'latitude': [12.9716], 'longitude': [77.9086], 'prev_trip_delay': [60]})\n",
        "    predicted_delay = model.predict(new_data)\n",
        "    print(f\"Predicted Delay for New Data: {predicted_delay[0]:.0f} seconds\")"
      ],
      "metadata": {
        "colab": {
          "base_uri": "https://localhost:8080/"
        },
        "id": "aJM9g8GrpXln",
        "outputId": "54bee02f-6ffa-47e1-c10b-439850a3d515"
      },
      "execution_count": 21,
      "outputs": [
        {
          "output_type": "stream",
          "name": "stdout",
          "text": [
            "Predicted Delay for New Data: 181 seconds\n"
          ]
        }
      ]
    }
  ],
  "metadata": {
    "language_info": {
      "name": "python"
    },
    "colab": {
      "provenance": []
    },
    "kernelspec": {
      "name": "python3",
      "display_name": "Python 3"
    }
  },
  "nbformat": 4,
  "nbformat_minor": 0
}